{
 "metadata": {
  "name": "",
  "signature": "sha256:32fc0d1dc8a910c4824059990c9878dccf53b4f1f661016ac3f4b55864f9aff9"
 },
 "nbformat": 3,
 "nbformat_minor": 0,
 "worksheets": [
  {
   "cells": [
    {
     "cell_type": "code",
     "collapsed": false,
     "input": [
      "### 1\n",
      "\n",
      "def wordcount(file):\n",
      "    from collections import Counter\n",
      "    import re\n",
      "    with open(file, 'r') as f:\n",
      "        for line in f:\n",
      "            words = line.split()\n",
      "            words_lower = [element.lower() for element in words]\n",
      "        words_count = len(words_lower)\n",
      "        s = set(words_lower)\n",
      "        \n",
      "        \n",
      "    print('The number of words are ', words_count)\n",
      "    print('The number of unique words are ', len(s))\n",
      "\n",
      "wordcount('/Users/christopherstewart/Desktop/work/DS_bootcamps/Galvanize/tech_challenge/py_scripts/_1/text.txt')\n"
     ],
     "language": "python",
     "metadata": {},
     "outputs": [
      {
       "output_type": "stream",
       "stream": "stdout",
       "text": [
        "('The number of words are ', 250)\n",
        "('The number of unique words are ', 158)\n"
       ]
      }
     ],
     "prompt_number": 41
    },
    {
     "cell_type": "code",
     "collapsed": false,
     "input": [
      "def textinfo(path):\n",
      "    \"\"\"\n",
      "    Takes a file name with path and returns figures about the text contained in that file.\n",
      "    \"\"\"\n",
      "    \n",
      "    from nltk.corpus import PlaintextCorpusReader\n",
      "    from nltk import FreqDist\n",
      "    corpusReader = PlaintextCorpusReader(text, '.*')\n",
      "\n",
      "    print \"Total word count:\", len([word for sentence in corpusReader.sents() for word in sentence])\n",
      "    print \"Unique words:\", len(set(corpusReader.words()))\n",
      "    print \"Sentences:\", len(corpusReader.sents())\n",
      "    print \"Average sentence length in words:\", (len([word for sentence in corpusReader.sents() for word in sentence]) / len(corpusReader.sents()))\n",
      "    \n",
      "textinfo('/Users/christopherstewart/Desktop/work/DS_bootcamps/Galvanize/tech_challenge/py_scripts/_1/')"
     ],
     "language": "python",
     "metadata": {},
     "outputs": [
      {
       "output_type": "stream",
       "stream": "stdout",
       "text": [
        "Total word count: 2109\n",
        "Unique words: 343\n",
        "Sentences: 49\n",
        "Average sentence length in words: "
       ]
      },
      {
       "output_type": "stream",
       "stream": "stdout",
       "text": [
        "43\n"
       ]
      }
     ],
     "prompt_number": 71
    },
    {
     "cell_type": "code",
     "collapsed": false,
     "input": [],
     "language": "python",
     "metadata": {},
     "outputs": [],
     "prompt_number": 59
    },
    {
     "cell_type": "code",
     "collapsed": false,
     "input": [],
     "language": "python",
     "metadata": {},
     "outputs": []
    }
   ],
   "metadata": {}
  }
 ]
}